{
 "cells": [
  {
   "cell_type": "code",
   "execution_count": 1,
   "id": "99ac8a5b",
   "metadata": {},
   "outputs": [],
   "source": [
    "import pandas as pd\n",
    "import numpy as np"
   ]
  },
  {
   "cell_type": "code",
   "execution_count": 2,
   "id": "14806fef",
   "metadata": {},
   "outputs": [],
   "source": [
    "dataFrame=pd.read_excel(\"27-SalarySheet.xlsx\")"
   ]
  },
  {
   "cell_type": "code",
   "execution_count": 3,
   "id": "b7de4860",
   "metadata": {},
   "outputs": [
    {
     "data": {
      "text/html": [
       "<div>\n",
       "<style scoped>\n",
       "    .dataframe tbody tr th:only-of-type {\n",
       "        vertical-align: middle;\n",
       "    }\n",
       "\n",
       "    .dataframe tbody tr th {\n",
       "        vertical-align: top;\n",
       "    }\n",
       "\n",
       "    .dataframe thead th {\n",
       "        text-align: right;\n",
       "    }\n",
       "</style>\n",
       "<table border=\"1\" class=\"dataframe\">\n",
       "  <thead>\n",
       "    <tr style=\"text-align: right;\">\n",
       "      <th></th>\n",
       "      <th>Employee Name</th>\n",
       "      <th>Department</th>\n",
       "      <th>Title</th>\n",
       "      <th>Salary</th>\n",
       "    </tr>\n",
       "  </thead>\n",
       "  <tbody>\n",
       "    <tr>\n",
       "      <th>0</th>\n",
       "      <td>Semaj Bowers</td>\n",
       "      <td>Marketing</td>\n",
       "      <td>Mid</td>\n",
       "      <td>600</td>\n",
       "    </tr>\n",
       "    <tr>\n",
       "      <th>1</th>\n",
       "      <td>Gary Foster</td>\n",
       "      <td>Sales</td>\n",
       "      <td>Mid</td>\n",
       "      <td>650</td>\n",
       "    </tr>\n",
       "    <tr>\n",
       "      <th>2</th>\n",
       "      <td>Saniya Maldonado</td>\n",
       "      <td>HR</td>\n",
       "      <td>Mid</td>\n",
       "      <td>600</td>\n",
       "    </tr>\n",
       "    <tr>\n",
       "      <th>3</th>\n",
       "      <td>Jillian Zuniga</td>\n",
       "      <td>HR</td>\n",
       "      <td>C-level</td>\n",
       "      <td>1000</td>\n",
       "    </tr>\n",
       "    <tr>\n",
       "      <th>4</th>\n",
       "      <td>Courtney Mora</td>\n",
       "      <td>Sales</td>\n",
       "      <td>Mid</td>\n",
       "      <td>550</td>\n",
       "    </tr>\n",
       "    <tr>\n",
       "      <th>...</th>\n",
       "      <td>...</td>\n",
       "      <td>...</td>\n",
       "      <td>...</td>\n",
       "      <td>...</td>\n",
       "    </tr>\n",
       "    <tr>\n",
       "      <th>95</th>\n",
       "      <td>Jake Gay</td>\n",
       "      <td>Sales</td>\n",
       "      <td>Junior</td>\n",
       "      <td>443</td>\n",
       "    </tr>\n",
       "    <tr>\n",
       "      <th>96</th>\n",
       "      <td>Macy Webster</td>\n",
       "      <td>Finance</td>\n",
       "      <td>C-level</td>\n",
       "      <td>1250</td>\n",
       "    </tr>\n",
       "    <tr>\n",
       "      <th>97</th>\n",
       "      <td>Jaquan Meyers</td>\n",
       "      <td>Marketing</td>\n",
       "      <td>Mid-Senior</td>\n",
       "      <td>800</td>\n",
       "    </tr>\n",
       "    <tr>\n",
       "      <th>98</th>\n",
       "      <td>Willow Bush</td>\n",
       "      <td>Software Development</td>\n",
       "      <td>Junior</td>\n",
       "      <td>441</td>\n",
       "    </tr>\n",
       "    <tr>\n",
       "      <th>99</th>\n",
       "      <td>Emmanuel Prince</td>\n",
       "      <td>Sales</td>\n",
       "      <td>Mid</td>\n",
       "      <td>612</td>\n",
       "    </tr>\n",
       "  </tbody>\n",
       "</table>\n",
       "<p>100 rows × 4 columns</p>\n",
       "</div>"
      ],
      "text/plain": [
       "       Employee Name            Department       Title  Salary\n",
       "0       Semaj Bowers             Marketing         Mid     600\n",
       "1        Gary Foster                 Sales         Mid     650\n",
       "2   Saniya Maldonado                    HR         Mid     600\n",
       "3     Jillian Zuniga                    HR     C-level    1000\n",
       "4      Courtney Mora                 Sales         Mid     550\n",
       "..               ...                   ...         ...     ...\n",
       "95          Jake Gay                 Sales      Junior     443\n",
       "96      Macy Webster               Finance     C-level    1250\n",
       "97     Jaquan Meyers             Marketing  Mid-Senior     800\n",
       "98       Willow Bush  Software Development      Junior     441\n",
       "99   Emmanuel Prince                 Sales         Mid     612\n",
       "\n",
       "[100 rows x 4 columns]"
      ]
     },
     "execution_count": 3,
     "metadata": {},
     "output_type": "execute_result"
    }
   ],
   "source": [
    "dataFrame"
   ]
  },
  {
   "cell_type": "code",
   "execution_count": 12,
   "id": "46e23179",
   "metadata": {},
   "outputs": [
    {
     "data": {
      "text/plain": [
       "100"
      ]
     },
     "execution_count": 12,
     "metadata": {},
     "output_type": "execute_result"
    }
   ],
   "source": [
    "len(dataFrame)"
   ]
  },
  {
   "cell_type": "code",
   "execution_count": 18,
   "id": "b2b918a9",
   "metadata": {},
   "outputs": [
    {
     "data": {
      "text/plain": [
       "725.84"
      ]
     },
     "execution_count": 18,
     "metadata": {},
     "output_type": "execute_result"
    }
   ],
   "source": [
    "dataFrame[\"Salary\"].mean()"
   ]
  },
  {
   "cell_type": "code",
   "execution_count": 31,
   "id": "da7f3ec0",
   "metadata": {},
   "outputs": [],
   "source": [
    "Salary=dataFrame.groupby('Department')['Salary'].mean()"
   ]
  },
  {
   "cell_type": "code",
   "execution_count": 32,
   "id": "adacf818",
   "metadata": {},
   "outputs": [
    {
     "data": {
      "text/plain": [
       "Department\n",
       "Finance                 805.411765\n",
       "HR                      640.937500\n",
       "Marketing               707.000000\n",
       "Sales                   656.666667\n",
       "Software Development    826.409091\n",
       "Name: Salary, dtype: float64"
      ]
     },
     "execution_count": 32,
     "metadata": {},
     "output_type": "execute_result"
    }
   ],
   "source": [
    "Salary"
   ]
  },
  {
   "cell_type": "code",
   "execution_count": 33,
   "id": "31e16be6",
   "metadata": {},
   "outputs": [],
   "source": [
    "senior_salary=dataFrame.groupby(\"Title\")[\"Salary\"].mean()"
   ]
  },
  {
   "cell_type": "code",
   "execution_count": 34,
   "id": "c1dc9f6b",
   "metadata": {},
   "outputs": [
    {
     "data": {
      "text/plain": [
       "Title\n",
       "C-level       1058.333333\n",
       "Junior         440.625000\n",
       "Mid            641.450000\n",
       "Mid-Senior     725.500000\n",
       "Senior         867.777778\n",
       "Name: Salary, dtype: float64"
      ]
     },
     "execution_count": 34,
     "metadata": {},
     "output_type": "execute_result"
    }
   ],
   "source": [
    "senior_salary"
   ]
  },
  {
   "cell_type": "code",
   "execution_count": 35,
   "id": "b03d2436",
   "metadata": {},
   "outputs": [],
   "source": [
    "senior_grup = dataFrame[dataFrame['Title'].str.contains('Senior')]"
   ]
  },
  {
   "cell_type": "code",
   "execution_count": 36,
   "id": "2fd423ca",
   "metadata": {},
   "outputs": [],
   "source": [
    "junior_grup= dataFrame[dataFrame[\"Title\"].str.contains(\"Junior\")]"
   ]
  },
  {
   "cell_type": "code",
   "execution_count": 38,
   "id": "4ecc6cb0",
   "metadata": {},
   "outputs": [],
   "source": [
    "senior_ortalama_maas=senior_grup[\"Salary\"].mean()"
   ]
  },
  {
   "cell_type": "code",
   "execution_count": 39,
   "id": "16c98b3b",
   "metadata": {},
   "outputs": [],
   "source": [
    "junior_ortalama_maas=junior_grup[\"Salary\"].mean()"
   ]
  },
  {
   "cell_type": "code",
   "execution_count": 40,
   "id": "078ba228",
   "metadata": {},
   "outputs": [],
   "source": [
    "fark_yuzdesi=((senior_ortalama_maas-junior_ortalama_maas)/junior_ortalama_maas)*100"
   ]
  },
  {
   "cell_type": "code",
   "execution_count": 41,
   "id": "932874ef",
   "metadata": {},
   "outputs": [
    {
     "data": {
      "text/plain": [
       "79.9477416946622"
      ]
     },
     "execution_count": 41,
     "metadata": {},
     "output_type": "execute_result"
    }
   ],
   "source": [
    "fark_yuzdesi"
   ]
  },
  {
   "cell_type": "code",
   "execution_count": 48,
   "id": "544ab32e",
   "metadata": {},
   "outputs": [],
   "source": [
    "software_senior_grup = dataFrame[(dataFrame['Department'] == 'Software Development') & (dataFrame['Title'].str.contains('Senior'))]"
   ]
  },
  {
   "cell_type": "code",
   "execution_count": 50,
   "id": "3419d420",
   "metadata": {},
   "outputs": [],
   "source": [
    "software_junior_grup = dataFrame[(dataFrame['Department'] == 'Software Development') & (dataFrame['Title'].str.contains('Junior'))]"
   ]
  },
  {
   "cell_type": "code",
   "execution_count": 51,
   "id": "76c6541e",
   "metadata": {},
   "outputs": [],
   "source": [
    "software_senior_ortalama_maas = software_senior_grup['Salary'].mean()\n",
    "software_junior_ortalama_maas = software_junior_grup['Salary'].mean()"
   ]
  },
  {
   "cell_type": "code",
   "execution_count": 52,
   "id": "4edfa814",
   "metadata": {},
   "outputs": [],
   "source": [
    "fark_orani = (software_senior_ortalama_maas / software_junior_ortalama_maas - 1) * 100"
   ]
  },
  {
   "cell_type": "code",
   "execution_count": 53,
   "id": "d917ad64",
   "metadata": {},
   "outputs": [
    {
     "data": {
      "text/plain": [
       "83.3462432223083"
      ]
     },
     "execution_count": 53,
     "metadata": {},
     "output_type": "execute_result"
    }
   ],
   "source": [
    "fark_orani"
   ]
  },
  {
   "cell_type": "code",
   "execution_count": 56,
   "id": "0bbe67e4",
   "metadata": {},
   "outputs": [],
   "source": [
    "c_level_maas_ortalama=dataFrame[(dataFrame[\"Department\"] == \"Finance\") & (dataFrame[\"Title\"] == \"C-level\")][\"Salary\"].mean()"
   ]
  },
  {
   "cell_type": "code",
   "execution_count": 59,
   "id": "ea566b42",
   "metadata": {},
   "outputs": [],
   "source": [
    "Mid_Senior_maas_ortalama=dataFrame[(dataFrame[\"Department\"] == \"Finance\") & (dataFrame[\"Title\"] == \"Mid-Senior\")][\"Salary\"].mean()"
   ]
  },
  {
   "cell_type": "code",
   "execution_count": 60,
   "id": "affdac90",
   "metadata": {},
   "outputs": [],
   "source": [
    "c_level_mid_senior_maas_farki=c_level_maas_ortalama-Mid_Senior_maas_ortalama"
   ]
  },
  {
   "cell_type": "code",
   "execution_count": 61,
   "id": "f8fd1a8c",
   "metadata": {},
   "outputs": [
    {
     "data": {
      "text/plain": [
       "240.0"
      ]
     },
     "execution_count": 61,
     "metadata": {},
     "output_type": "execute_result"
    }
   ],
   "source": [
    "c_level_mid_senior_maas_farki"
   ]
  },
  {
   "cell_type": "code",
   "execution_count": null,
   "id": "d060d35b",
   "metadata": {},
   "outputs": [],
   "source": []
  }
 ],
 "metadata": {
  "kernelspec": {
   "display_name": "Python 3 (ipykernel)",
   "language": "python",
   "name": "python3"
  },
  "language_info": {
   "codemirror_mode": {
    "name": "ipython",
    "version": 3
   },
   "file_extension": ".py",
   "mimetype": "text/x-python",
   "name": "python",
   "nbconvert_exporter": "python",
   "pygments_lexer": "ipython3",
   "version": "3.11.5"
  }
 },
 "nbformat": 4,
 "nbformat_minor": 5
}
