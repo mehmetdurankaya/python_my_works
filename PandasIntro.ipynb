{
 "cells": [
  {
   "cell_type": "code",
   "execution_count": 1,
   "id": "3718f233",
   "metadata": {},
   "outputs": [],
   "source": [
    "import numpy as np\n",
    "import pandas as pd"
   ]
  },
  {
   "cell_type": "code",
   "execution_count": 2,
   "id": "c030f629",
   "metadata": {},
   "outputs": [],
   "source": [
    "#series"
   ]
  },
  {
   "cell_type": "code",
   "execution_count": 3,
   "id": "f9ab85ea",
   "metadata": {},
   "outputs": [],
   "source": [
    "my_dict={\"James\":50,\"Lars\":60,\"Kirk\":55,\"Rob\":65}"
   ]
  },
  {
   "cell_type": "code",
   "execution_count": 4,
   "id": "a24bc8d2",
   "metadata": {},
   "outputs": [
    {
     "data": {
      "text/plain": [
       "James    50\n",
       "Lars     60\n",
       "Kirk     55\n",
       "Rob      65\n",
       "dtype: int64"
      ]
     },
     "execution_count": 4,
     "metadata": {},
     "output_type": "execute_result"
    }
   ],
   "source": [
    "pd.Series(my_dict)"
   ]
  },
  {
   "cell_type": "code",
   "execution_count": 5,
   "id": "6721c35f",
   "metadata": {},
   "outputs": [],
   "source": [
    "age_list=[50,60,55,65]\n",
    "name_list=[\"James\",\"Lars\",\"Kirk\",\"Rob\"]"
   ]
  },
  {
   "cell_type": "code",
   "execution_count": 6,
   "id": "db2bf8fb",
   "metadata": {},
   "outputs": [
    {
     "data": {
      "text/plain": [
       "James    50\n",
       "Lars     60\n",
       "Kirk     55\n",
       "Rob      65\n",
       "dtype: int64"
      ]
     },
     "execution_count": 6,
     "metadata": {},
     "output_type": "execute_result"
    }
   ],
   "source": [
    "pd.Series(age_list,name_list)"
   ]
  },
  {
   "cell_type": "code",
   "execution_count": 7,
   "id": "4c260df0",
   "metadata": {},
   "outputs": [],
   "source": [
    "numpy_array=np.arange(0,8)"
   ]
  },
  {
   "cell_type": "code",
   "execution_count": 8,
   "id": "aa93cf59",
   "metadata": {},
   "outputs": [
    {
     "data": {
      "text/plain": [
       "array([0, 1, 2, 3, 4, 5, 6, 7])"
      ]
     },
     "execution_count": 8,
     "metadata": {},
     "output_type": "execute_result"
    }
   ],
   "source": [
    " numpy_array"
   ]
  },
  {
   "cell_type": "code",
   "execution_count": 9,
   "id": "47544181",
   "metadata": {},
   "outputs": [
    {
     "data": {
      "text/plain": [
       "0    0\n",
       "1    1\n",
       "2    2\n",
       "3    3\n",
       "4    4\n",
       "5    5\n",
       "6    6\n",
       "7    7\n",
       "dtype: int32"
      ]
     },
     "execution_count": 9,
     "metadata": {},
     "output_type": "execute_result"
    }
   ],
   "source": [
    "pd.Series(numpy_array)"
   ]
  },
  {
   "cell_type": "code",
   "execution_count": 10,
   "id": "9d1e5634",
   "metadata": {},
   "outputs": [],
   "source": [
    "new_numpy_array=np.array([10,20,30,40])"
   ]
  },
  {
   "cell_type": "code",
   "execution_count": 11,
   "id": "1bfdfee7",
   "metadata": {},
   "outputs": [
    {
     "data": {
      "text/plain": [
       "0    10\n",
       "1    20\n",
       "2    30\n",
       "3    40\n",
       "dtype: int32"
      ]
     },
     "execution_count": 11,
     "metadata": {},
     "output_type": "execute_result"
    }
   ],
   "source": [
    "pd.Series(new_numpy_array)"
   ]
  },
  {
   "cell_type": "code",
   "execution_count": 12,
   "id": "ebc8e23a",
   "metadata": {},
   "outputs": [],
   "source": [
    "my_series=pd.Series(data=new_numpy_array,index=name_list)"
   ]
  },
  {
   "cell_type": "code",
   "execution_count": 20,
   "id": "8e27a1d8",
   "metadata": {},
   "outputs": [
    {
     "data": {
      "text/plain": [
       "James    10\n",
       "Lars     20\n",
       "Kirk     60\n",
       "Rob      40\n",
       "dtype: int32"
      ]
     },
     "execution_count": 20,
     "metadata": {},
     "output_type": "execute_result"
    }
   ],
   "source": [
    "my_series"
   ]
  },
  {
   "cell_type": "code",
   "execution_count": 14,
   "id": "8f9da51e",
   "metadata": {},
   "outputs": [
    {
     "data": {
      "text/plain": [
       "pandas.core.series.Series"
      ]
     },
     "execution_count": 14,
     "metadata": {},
     "output_type": "execute_result"
    }
   ],
   "source": [
    "type(my_series)"
   ]
  },
  {
   "cell_type": "code",
   "execution_count": 17,
   "id": "87121c2c",
   "metadata": {},
   "outputs": [
    {
     "data": {
      "text/plain": [
       "30"
      ]
     },
     "execution_count": 17,
     "metadata": {},
     "output_type": "execute_result"
    }
   ],
   "source": [
    "my_series[\"Kirk\"]"
   ]
  },
  {
   "cell_type": "code",
   "execution_count": 18,
   "id": "95cb9b72",
   "metadata": {},
   "outputs": [],
   "source": [
    "my_series[\"Kirk\"]=60"
   ]
  },
  {
   "cell_type": "code",
   "execution_count": 19,
   "id": "278dfb3e",
   "metadata": {},
   "outputs": [
    {
     "data": {
      "text/plain": [
       "James    10\n",
       "Lars     20\n",
       "Kirk     60\n",
       "Rob      40\n",
       "dtype: int32"
      ]
     },
     "execution_count": 19,
     "metadata": {},
     "output_type": "execute_result"
    }
   ],
   "source": [
    "my_series"
   ]
  },
  {
   "cell_type": "code",
   "execution_count": 21,
   "id": "dd1de7ad",
   "metadata": {},
   "outputs": [],
   "source": [
    "quiz_results1=pd.Series(data=[70,60,100],index=[\"A\",\"B\",\"C\"])"
   ]
  },
  {
   "cell_type": "code",
   "execution_count": 26,
   "id": "3f6e3e02",
   "metadata": {},
   "outputs": [],
   "source": [
    "quiz_results2=pd.Series(data=[80,30,50],index=[\"A\",\"B\",\"C\"])"
   ]
  },
  {
   "cell_type": "code",
   "execution_count": 27,
   "id": "51f1212a",
   "metadata": {},
   "outputs": [
    {
     "data": {
      "text/plain": [
       "A     70\n",
       "B     60\n",
       "C    100\n",
       "dtype: int64"
      ]
     },
     "execution_count": 27,
     "metadata": {},
     "output_type": "execute_result"
    }
   ],
   "source": [
    "quiz_results1"
   ]
  },
  {
   "cell_type": "code",
   "execution_count": 28,
   "id": "7ec7ab7c",
   "metadata": {},
   "outputs": [
    {
     "data": {
      "text/plain": [
       "A    80\n",
       "B    30\n",
       "C    50\n",
       "dtype: int64"
      ]
     },
     "execution_count": 28,
     "metadata": {},
     "output_type": "execute_result"
    }
   ],
   "source": [
    "quiz_results2"
   ]
  },
  {
   "cell_type": "code",
   "execution_count": null,
   "id": "3acc5d79",
   "metadata": {},
   "outputs": [],
   "source": []
  }
 ],
 "metadata": {
  "kernelspec": {
   "display_name": "Python 3 (ipykernel)",
   "language": "python",
   "name": "python3"
  },
  "language_info": {
   "codemirror_mode": {
    "name": "ipython",
    "version": 3
   },
   "file_extension": ".py",
   "mimetype": "text/x-python",
   "name": "python",
   "nbconvert_exporter": "python",
   "pygments_lexer": "ipython3",
   "version": "3.11.5"
  }
 },
 "nbformat": 4,
 "nbformat_minor": 5
}
